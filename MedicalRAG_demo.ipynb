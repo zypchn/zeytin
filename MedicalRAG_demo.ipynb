{
  "nbformat": 4,
  "nbformat_minor": 0,
  "metadata": {
    "colab": {
      "provenance": [],
      "authorship_tag": "ABX9TyPKjHTwtrZrVm1+PvZ0aZX2",
      "include_colab_link": true
    },
    "kernelspec": {
      "name": "python3",
      "display_name": "Python 3"
    },
    "language_info": {
      "name": "python"
    }
  },
  "cells": [
    {
      "cell_type": "markdown",
      "metadata": {
        "id": "view-in-github",
        "colab_type": "text"
      },
      "source": [
        "<a href=\"https://colab.research.google.com/github/zypchn/zeytin/blob/main/MedicalRAG_demo.ipynb\" target=\"_parent\"><img src=\"https://colab.research.google.com/assets/colab-badge.svg\" alt=\"Open In Colab\"/></a>"
      ]
    },
    {
      "cell_type": "code",
      "source": [
        "! pip install -qU langchain langchain-pinecone langchain-openai langchain_community"
      ],
      "metadata": {
        "colab": {
          "base_uri": "https://localhost:8080/"
        },
        "id": "xLjuBfDQrzzq",
        "outputId": "fdfb2f73-9bcc-4d65-cf81-e86abdd0b971"
      },
      "execution_count": 3,
      "outputs": [
        {
          "output_type": "stream",
          "name": "stdout",
          "text": [
            "\u001b[2K   \u001b[90m━━━━━━━━━━━━━━━━━━━━━━━━━━━━━━━━━━━━━━━━\u001b[0m \u001b[32m2.5/2.5 MB\u001b[0m \u001b[31m29.0 MB/s\u001b[0m eta \u001b[36m0:00:00\u001b[0m\n",
            "\u001b[2K   \u001b[90m━━━━━━━━━━━━━━━━━━━━━━━━━━━━━━━━━━━━━━━━\u001b[0m \u001b[32m64.7/64.7 kB\u001b[0m \u001b[31m4.4 MB/s\u001b[0m eta \u001b[36m0:00:00\u001b[0m\n",
            "\u001b[2K   \u001b[90m━━━━━━━━━━━━━━━━━━━━━━━━━━━━━━━━━━━━━━━━\u001b[0m \u001b[32m50.9/50.9 kB\u001b[0m \u001b[31m3.8 MB/s\u001b[0m eta \u001b[36m0:00:00\u001b[0m\n",
            "\u001b[?25h\u001b[31mERROR: pip's dependency resolver does not currently take into account all the packages that are installed. This behaviour is the source of the following dependency conflicts.\n",
            "google-colab 1.0.0 requires requests==2.32.4, but you have requests 2.32.5 which is incompatible.\u001b[0m\u001b[31m\n",
            "\u001b[0m"
          ]
        }
      ]
    },
    {
      "cell_type": "code",
      "source": [
        "import os\n",
        "from getpass import getpass\n",
        "from huggingface_hub import notebook_login\n",
        "from pinecone import ServerlessSpec, Pinecone as PineconeClient\n",
        "import pandas as pd\n",
        "from datasets import load_dataset\n",
        "from langchain_community.document_loaders import TextLoader, CSVLoader\n",
        "from langchain_openai import OpenAIEmbeddings\n",
        "from langchain_text_splitters import RecursiveCharacterTextSplitter\n",
        "from langchain_core.documents import Document\n",
        "from langchain_pinecone import PineconeVectorStore\n",
        "from uuid import uuid4"
      ],
      "metadata": {
        "id": "E5JIpvUfrt37"
      },
      "execution_count": 33,
      "outputs": []
    },
    {
      "cell_type": "code",
      "execution_count": 5,
      "metadata": {
        "colab": {
          "base_uri": "https://localhost:8080/"
        },
        "id": "ULcgNxMgeGcw",
        "outputId": "fca76839-4d9f-429d-ff10-e1d32f9e229d"
      },
      "outputs": [
        {
          "name": "stdout",
          "output_type": "stream",
          "text": [
            "LANGCHAIN_API_KEY : ··········\n",
            "LANGSMITH_API_KEY : ··········\n",
            "OPENAI_API_KEY : ··········\n",
            "PINECONE_API_KEY : ··········\n"
          ]
        }
      ],
      "source": [
        "os.environ[\"LANGCHAIN_API_KEY\"] = getpass(\"LANGCHAIN_API_KEY : \")\n",
        "os.environ[\"LANGSMITH_API_KEY\"] = getpass(\"LANGSMITH_API_KEY : \")\n",
        "os.environ[\"OPENAI_API_KEY\"] = getpass(\"OPENAI_API_KEY : \")\n",
        "os.environ[\"PINECONE_API_KEY\"] = getpass(\"PINECONE_API_KEY : \")\n",
        "pinecone_api_key = os.environ.get(\"PINECONE_API_KEY\")\n",
        "#notebook_login()\n",
        "\n",
        "os.environ[\"LANGSMITH_TRACING_V2\"]=\"true\"\n",
        "os.environ[\"LANGSMITH_PROJECT\"]=\"zeytin\""
      ]
    },
    {
      "cell_type": "code",
      "source": [
        "pth = \"/content/diagnosis.csv\"\n",
        "loader = CSVLoader(file_path=pth,\n",
        "                   csv_args={\n",
        "                       \"delimiter\": \",\",\n",
        "                       \"quotechar\": '\"',\n",
        "                       \"fieldnames\": [\"category\", \"topic\", \"text\", \"num_tokens\"]\n",
        "                   })\n",
        "\n",
        "docs = loader.load()"
      ],
      "metadata": {
        "id": "zVIB7y5GNtQv"
      },
      "execution_count": 11,
      "outputs": []
    },
    {
      "cell_type": "code",
      "source": [
        "pc = PineconeClient(api_key=pinecone_api_key)"
      ],
      "metadata": {
        "id": "i0kS15Iaq4f_"
      },
      "execution_count": 16,
      "outputs": []
    },
    {
      "cell_type": "code",
      "source": [
        "index_name = \"medicalrag-demo\"\n",
        "\n",
        "if not pc.has_index(index_name):\n",
        "  pc.create_index(\n",
        "      name=index_name,\n",
        "      dimension=1536,\n",
        "      metric=\"cosine\",\n",
        "      spec=ServerlessSpec(\n",
        "          cloud=\"aws\",\n",
        "          region=\"us-east-1\"\n",
        "      )\n",
        "  )\n",
        "\n",
        "index = pc.Index(index_name)"
      ],
      "metadata": {
        "id": "XAqitprSsG9I"
      },
      "execution_count": 42,
      "outputs": []
    },
    {
      "cell_type": "code",
      "source": [
        "embeddings = OpenAIEmbeddings(model=\"text-embedding-3-small\")"
      ],
      "metadata": {
        "id": "qMB8sSN3sfvk"
      },
      "execution_count": 18,
      "outputs": []
    },
    {
      "cell_type": "code",
      "source": [
        "vector_store = PineconeVectorStore(index=index, embedding=embeddings)\n",
        "text_splitter = RecursiveCharacterTextSplitter(chunk_size=1000, chunk_overlap=200)\n",
        "all_splits = text_splitter.split_documents(docs)"
      ],
      "metadata": {
        "id": "Fi5crorotv4_"
      },
      "execution_count": 43,
      "outputs": []
    },
    {
      "cell_type": "code",
      "source": [
        "half_len = len(all_splits) // 2\n",
        "uuids = [str(uuid4()) for _ in range(len(all_splits))]\n",
        "\n",
        "try:\n",
        "  vector_store.add_documents(documents=all_splits[:half_len], ids=uuids[:half_len])\n",
        "  print(\"Successfully loaded the first half of the documents.\")\n",
        "  vector_store.add_documents(documents=all_splits[half_len:], ids=uuids[half_len:])\n",
        "  print(\"Successfully loaded the second half of the documents.\")\n",
        "except Exception as e:\n",
        "  print(e)"
      ],
      "metadata": {
        "colab": {
          "base_uri": "https://localhost:8080/"
        },
        "id": "Cw7wIc6qt6JN",
        "outputId": "3bb78f6d-4690-466c-be6a-4517f2e97e50"
      },
      "execution_count": 44,
      "outputs": [
        {
          "output_type": "stream",
          "name": "stdout",
          "text": [
            "Successfully loaded the first half of the documents.\n",
            "Successfully loaded the second half of the documents.\n"
          ]
        }
      ]
    },
    {
      "cell_type": "code",
      "source": [
        "query = \"Kan örneği alınarak yapılan testler hangileridir?\"\n",
        "results = vector_store.similarity_search_with_score(\n",
        "    query, k=7\n",
        ")\n",
        "\n",
        "for res, score in results:\n",
        "  print(f\"SCORE : {score}\\n{res.page_content}\\n\\n\")"
      ],
      "metadata": {
        "colab": {
          "base_uri": "https://localhost:8080/"
        },
        "id": "d0WSBysxO8J0",
        "outputId": "4d78fe7e-8139-4f54-acc6-688ad9072545"
      },
      "execution_count": 45,
      "outputs": [
        {
          "output_type": "stream",
          "name": "stdout",
          "text": [
            "SCORE : 0.560539305\n",
            "gibi hücrelerin sayılarak, çeşitli hastalıkların tespitinde kullanılan kan testidir. Hemogram testi ile anlaşılabilen sorunların başında başında enfeksiyon, anemi, bağışıklık sistemi hastalıkları ve kan kanseri gibi hastalıklar gelmektedir. Tam kan Sayımı, CBC, hemogram, diferansiyel ile CBC, TKS isimleriyle de bilinir.Hemogram (Tam Kan Sayımı) Testi Hangi Hastalıkların Tanısı İçin Yapılır?Kişiden kan örneği alınmasıyla yapılan tam kan sayımı (hemogram) testi ile anemi, otoimmün bozukluklar, kemik iliği bozuklukları, dehidrasyon, enfeksiyonlar, iltihaplanma, lösemi, lenfoma, miyeloproliferatif neoplazmlar, miyelodisplastik sendrom, orak hücre hastalığı, talasemi, B12 vitamin, folat ve demir eksikliği gibi vitamin eksiklikleri tespit edilebilir.Tam kan sayımı testinde şu hastalıklar tespit edilir:Hemogram (Tam Kan Sayımı) Testinde Hangi Değerler İncelenir?Test yaptırdıktan sonra size sunulan sonuç sayfanızda yer alan bir dizi alt parametre yer alır. Bu alt parametrelerinin her birinin\n",
            "\n",
            "\n",
            "SCORE : 0.554239333\n",
            "testleri yapabilirsiniz. Babalık testi, kanser ya da hastalık yatkınlık testleri bunlara örnektir.Genetik testler kimler için gereklidir?Bütün bunlar dışında son yıllarda bireysel genetik check-up ve tarama testleri ile kişilere beslenme ve egzersiz genetiği, gluten, kafein ve laktoz intoleransı, mikrobiyata analizleri yapılarak kişilerin yaşam standartlarını düzeltici öneriler verebilecek genetik testler de yapılmaktadır.Genetik testler kaç günde sonuçlanır?Yapılan genetik test ve çalışılacak genlerin özelliğine ve gen testi yapan laboratuvara göre genetik testlerin sonuçlanma süresi değişmektedir. Kanser hastaları için acil sonuç gerektiren tedaviyi yönlendirecek dokudan çalışılacak bir genetik test 4-5 günde çıkarılabilir. Ya da amniyosentez yapılan bir bebekte Hızlı Anöploidi(kromozom anomalisi) taraması 1-2 günde sonuçlandırılabilir. Ancak 20bin genin tarandığı, hastalık yapıcı tüm genlerin analiz edildiği Tüm Ekzom Sekansı için 4-6 hafta gibi bir süre gerekebilir.Genetik danışma\n",
            "\n",
            "\n",
            "SCORE : 0.548719466\n",
            "category: 41\n",
            "topic: Tanı ve Testler\n",
            "text: ELISA Testi\n",
            "\n",
            "\n",
            "SCORE : 0.542797148\n",
            "category: 77\n",
            "topic: Tanı ve Testler\n",
            "text: Kan Gazı Testi\n",
            "\n",
            "\n",
            "SCORE : 0.5419541\n",
            "category: 76\n",
            "topic: Tanı ve Testler\n",
            "text: Kalın İğne Biyopsisi\n",
            "\n",
            "\n",
            "SCORE : 0.541139662\n",
            "önerilmektedir. Özellikle sigara ile alkol kullananların ve obez kişilerin kanser taraması konusunda daha uyanık olması gerekmektedir. Ayrıca kan sonuçlarında demir eksikliği tespit edilen kişilerde bu duruma sebep olabilecek başka bir durum yoksa mide-bağırsak patolojilerinin değerlendirilmesi için dışkıda kan testi yapılması önerilmektedir. Ülkemizde bu test genelde sağlık kuruluşlarında uygulanırken, evde kişinin kendisinin yapacağı hazır kitler de kullanılmaktadır.  Bu testte anormal bir sonuç çıkması durumunda hastaya mutlaka endoskopi ve kolonoskopi yapılması gerekmektedir.  Dışkıda kan testi hangi durumda pozitif çıkar?Aslında bu testin pozitif çıkması için hastanın ağız içi, mide, kalın barsak, ince bağırsak veya yemek borusundan 50 cc gibi az miktarda bir kanama bile olması yeterlidir. Bu testin pozitif çıkması durumunda ilk olarak bu organlarda başlayan kanserler akla gelir. Bu durumun dışındaki aşağıdaki hastalıklar da testin pozitif çıkmasına sebep olabilir;Dışkıda kan\n",
            "\n",
            "\n",
            "SCORE : 0.538913786\n",
            "haftalarda yapılarak bebeğin Down sendromu, Edward Sendromu ve Patau sendromu gibi durumların riskinin ortaya çıkarılması için yapılır. Böylelikle bebek doğmadan önce ciddi zihinsel engelliliği ya da fiziksel kusuru olup olmadığı görülür.İkili Tarama Testi (İkili Test) Nasıl Yapılır?İkili tarama testi, kan testi ve ense kalınlığı (NT) taraması olarak bilinen bir ultrason muayenesini içerir. Test sonuçları pozitif ve negatif olarak ikiye ayrılır. Testin sonuçları sadece alınan kan örneklerine değil, annenin yaşına ve ultrasonda görülen fetüsün ne kadar olduğuna bağlıdır. Tüm bu faktörler sonucun belirlenmesinde rol oynar.Kan örneğinde hormon serbest beta HCG ve gebelikle ilişkili plazma protein A (PAPP-A) düzeyleri kontrol edilir. Glikoprotein hormonu hamilelik sırasında plasenta tarafından geliştirilir. Serbest beta HCG'nin yüksek seviyeleri, daha yüksek Down sendromu riskini gösterir ve düşük protein seviyeleri de Down sendromu riski taşır.İkili Tarama Testi Avantajları\n",
            "\n",
            "\n"
          ]
        }
      ]
    },
    {
      "cell_type": "code",
      "source": [],
      "metadata": {
        "id": "2NyVEm2OPBIe"
      },
      "execution_count": null,
      "outputs": []
    }
  ]
}
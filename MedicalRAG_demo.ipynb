{
  "nbformat": 4,
  "nbformat_minor": 0,
  "metadata": {
    "colab": {
      "provenance": [],
      "authorship_tag": "ABX9TyO0cGA/B4nuJptkqQnzItKf",
      "include_colab_link": true
    },
    "kernelspec": {
      "name": "python3",
      "display_name": "Python 3"
    },
    "language_info": {
      "name": "python"
    }
  },
  "cells": [
    {
      "cell_type": "markdown",
      "metadata": {
        "id": "view-in-github",
        "colab_type": "text"
      },
      "source": [
        "<a href=\"https://colab.research.google.com/github/zypchn/zeytin/blob/main/MedicalRAG_demo.ipynb\" target=\"_parent\"><img src=\"https://colab.research.google.com/assets/colab-badge.svg\" alt=\"Open In Colab\"/></a>"
      ]
    },
    {
      "cell_type": "code",
      "source": [
        "! pip install -qU langchain langchain-pinecone langchain-openai langchain_community langgraph"
      ],
      "metadata": {
        "colab": {
          "base_uri": "https://localhost:8080/"
        },
        "id": "xLjuBfDQrzzq",
        "outputId": "29278256-5c7b-4738-c6e9-e1bb5c51cc51"
      },
      "execution_count": 1,
      "outputs": [
        {
          "output_type": "stream",
          "name": "stdout",
          "text": [
            "\u001b[2K     \u001b[90m━━━━━━━━━━━━━━━━━━━━━━━━━━━━━━━━━━━━━━━━\u001b[0m \u001b[32m43.7/43.7 kB\u001b[0m \u001b[31m1.4 MB/s\u001b[0m eta \u001b[36m0:00:00\u001b[0m\n",
            "\u001b[2K   \u001b[90m━━━━━━━━━━━━━━━━━━━━━━━━━━━━━━━━━━━━━━━━\u001b[0m \u001b[32m75.6/75.6 kB\u001b[0m \u001b[31m3.9 MB/s\u001b[0m eta \u001b[36m0:00:00\u001b[0m\n",
            "\u001b[2K   \u001b[90m━━━━━━━━━━━━━━━━━━━━━━━━━━━━━━━━━━━━━━━━\u001b[0m \u001b[32m2.5/2.5 MB\u001b[0m \u001b[31m36.7 MB/s\u001b[0m eta \u001b[36m0:00:00\u001b[0m\n",
            "\u001b[2K   \u001b[90m━━━━━━━━━━━━━━━━━━━━━━━━━━━━━━━━━━━━━━━━\u001b[0m \u001b[32m154.8/154.8 kB\u001b[0m \u001b[31m12.2 MB/s\u001b[0m eta \u001b[36m0:00:00\u001b[0m\n",
            "\u001b[2K   \u001b[90m━━━━━━━━━━━━━━━━━━━━━━━━━━━━━━━━━━━━━━━━\u001b[0m \u001b[32m449.5/449.5 kB\u001b[0m \u001b[31m19.7 MB/s\u001b[0m eta \u001b[36m0:00:00\u001b[0m\n",
            "\u001b[2K   \u001b[90m━━━━━━━━━━━━━━━━━━━━━━━━━━━━━━━━━━━━━━━━\u001b[0m \u001b[32m43.9/43.9 kB\u001b[0m \u001b[31m1.6 MB/s\u001b[0m eta \u001b[36m0:00:00\u001b[0m\n",
            "\u001b[2K   \u001b[90m━━━━━━━━━━━━━━━━━━━━━━━━━━━━━━━━━━━━━━━━\u001b[0m \u001b[32m56.8/56.8 kB\u001b[0m \u001b[31m4.0 MB/s\u001b[0m eta \u001b[36m0:00:00\u001b[0m\n",
            "\u001b[2K   \u001b[90m━━━━━━━━━━━━━━━━━━━━━━━━━━━━━━━━━━━━━━━━\u001b[0m \u001b[32m587.6/587.6 kB\u001b[0m \u001b[31m37.0 MB/s\u001b[0m eta \u001b[36m0:00:00\u001b[0m\n",
            "\u001b[2K   \u001b[90m━━━━━━━━━━━━━━━━━━━━━━━━━━━━━━━━━━━━━━━━\u001b[0m \u001b[32m64.7/64.7 kB\u001b[0m \u001b[31m5.2 MB/s\u001b[0m eta \u001b[36m0:00:00\u001b[0m\n",
            "\u001b[2K   \u001b[90m━━━━━━━━━━━━━━━━━━━━━━━━━━━━━━━━━━━━━━━━\u001b[0m \u001b[32m50.9/50.9 kB\u001b[0m \u001b[31m4.0 MB/s\u001b[0m eta \u001b[36m0:00:00\u001b[0m\n",
            "\u001b[2K   \u001b[90m━━━━━━━━━━━━━━━━━━━━━━━━━━━━━━━━━━━━━━━━\u001b[0m \u001b[32m216.7/216.7 kB\u001b[0m \u001b[31m17.3 MB/s\u001b[0m eta \u001b[36m0:00:00\u001b[0m\n",
            "\u001b[2K   \u001b[90m━━━━━━━━━━━━━━━━━━━━━━━━━━━━━━━━━━━━━━━━\u001b[0m \u001b[32m259.3/259.3 kB\u001b[0m \u001b[31m20.1 MB/s\u001b[0m eta \u001b[36m0:00:00\u001b[0m\n",
            "\u001b[2K   \u001b[90m━━━━━━━━━━━━━━━━━━━━━━━━━━━━━━━━━━━━━━━━\u001b[0m \u001b[32m65.5/65.5 kB\u001b[0m \u001b[31m5.1 MB/s\u001b[0m eta \u001b[36m0:00:00\u001b[0m\n",
            "\u001b[?25h\u001b[31mERROR: pip's dependency resolver does not currently take into account all the packages that are installed. This behaviour is the source of the following dependency conflicts.\n",
            "google-colab 1.0.0 requires requests==2.32.4, but you have requests 2.32.5 which is incompatible.\u001b[0m\u001b[31m\n",
            "\u001b[0m"
          ]
        }
      ]
    },
    {
      "cell_type": "code",
      "source": [
        "import os\n",
        "import pandas as pd\n",
        "\n",
        "from getpass import getpass\n",
        "from pinecone import ServerlessSpec, Pinecone as PineconeClient\n",
        "from langchain_community.document_loaders import CSVLoader\n",
        "from langchain_core.documents import Document\n",
        "from langchain_openai import OpenAIEmbeddings, ChatOpenAI\n",
        "from langchain_text_splitters import RecursiveCharacterTextSplitter\n",
        "from langchain_pinecone import PineconeVectorStore\n",
        "from uuid import uuid4\n",
        "from langchain import hub\n",
        "from langgraph.graph import START, END, StateGraph\n",
        "from typing_extensions import List, TypedDict\n",
        "from langchain.chat_models import init_chat_model\n",
        "from IPython.display import Image, display\n",
        "from langchain.tools import StructuredTool\n",
        "from pydantic import BaseModel\n",
        "from langchain_core.tools import tool"
      ],
      "metadata": {
        "id": "E5JIpvUfrt37"
      },
      "execution_count": null,
      "outputs": []
    },
    {
      "cell_type": "code",
      "execution_count": 3,
      "metadata": {
        "colab": {
          "base_uri": "https://localhost:8080/"
        },
        "id": "ULcgNxMgeGcw",
        "outputId": "892d8853-6180-4e98-fa32-4f3990f6ffc2"
      },
      "outputs": [
        {
          "name": "stdout",
          "output_type": "stream",
          "text": [
            "LANGCHAIN_API_KEY : ··········\n",
            "LANGSMITH_API_KEY : ··········\n",
            "OPENAI_API_KEY : ··········\n",
            "PINECONE_API_KEY : ··········\n"
          ]
        }
      ],
      "source": [
        "os.environ[\"LANGCHAIN_API_KEY\"] = getpass(\"LANGCHAIN_API_KEY : \")\n",
        "os.environ[\"LANGSMITH_API_KEY\"] = getpass(\"LANGSMITH_API_KEY : \")\n",
        "os.environ[\"OPENAI_API_KEY\"] = getpass(\"OPENAI_API_KEY : \")\n",
        "os.environ[\"PINECONE_API_KEY\"] = getpass(\"PINECONE_API_KEY : \")\n",
        "pinecone_api_key = os.environ.get(\"PINECONE_API_KEY\")\n",
        "#notebook_login()\n",
        "\n",
        "os.environ[\"LANGSMITH_TRACING_V2\"]=\"true\"\n",
        "os.environ[\"LANGSMITH_PROJECT\"]=\"zeytin\""
      ]
    },
    {
      "cell_type": "code",
      "source": [
        "pth = \"/content/diagnosis.csv\"\n",
        "loader = CSVLoader(file_path=pth,\n",
        "                   csv_args={\n",
        "                       \"delimiter\": \",\",\n",
        "                       \"quotechar\": '\"',\n",
        "                       \"fieldnames\": [\"category\", \"topic\", \"text\", \"num_tokens\"]\n",
        "                   })\n",
        "\n",
        "docs = loader.load()"
      ],
      "metadata": {
        "id": "zVIB7y5GNtQv"
      },
      "execution_count": null,
      "outputs": []
    },
    {
      "cell_type": "code",
      "source": [
        "pc = PineconeClient(api_key=pinecone_api_key)"
      ],
      "metadata": {
        "id": "i0kS15Iaq4f_"
      },
      "execution_count": 4,
      "outputs": []
    },
    {
      "cell_type": "code",
      "source": [
        "index_name = \"medicalrag-demo\"\n",
        "\n",
        "if not pc.has_index(index_name):\n",
        "  pc.create_index(\n",
        "      name=index_name,\n",
        "      dimension=1536,\n",
        "      metric=\"cosine\",\n",
        "      spec=ServerlessSpec(\n",
        "          cloud=\"aws\",\n",
        "          region=\"us-east-1\"\n",
        "      )\n",
        "  )\n",
        "\n",
        "index = pc.Index(index_name)"
      ],
      "metadata": {
        "id": "XAqitprSsG9I"
      },
      "execution_count": 5,
      "outputs": []
    },
    {
      "cell_type": "code",
      "source": [
        "embeddings = OpenAIEmbeddings(model=\"text-embedding-3-small\")"
      ],
      "metadata": {
        "id": "qMB8sSN3sfvk"
      },
      "execution_count": 6,
      "outputs": []
    },
    {
      "cell_type": "code",
      "source": [
        "vector_store = PineconeVectorStore(index=index, embedding=embeddings)"
      ],
      "metadata": {
        "id": "36VBMiok00a5"
      },
      "execution_count": 7,
      "outputs": []
    },
    {
      "cell_type": "code",
      "source": [
        "text_splitter = RecursiveCharacterTextSplitter(chunk_size=1000, chunk_overlap=200)\n",
        "all_splits = text_splitter.split_documents(docs)"
      ],
      "metadata": {
        "id": "Fi5crorotv4_"
      },
      "execution_count": null,
      "outputs": []
    },
    {
      "cell_type": "code",
      "source": [
        "half_len = len(all_splits) // 2\n",
        "uuids = [str(uuid4()) for _ in range(len(all_splits))]\n",
        "\n",
        "try:\n",
        "  vector_store.add_documents(documents=all_splits[:half_len], ids=uuids[:half_len])\n",
        "  print(\"Successfully loaded the first half of the documents.\")\n",
        "  vector_store.add_documents(documents=all_splits[half_len:], ids=uuids[half_len:])\n",
        "  print(\"Successfully loaded the second half of the documents.\")\n",
        "except Exception as e:\n",
        "  print(e)"
      ],
      "metadata": {
        "colab": {
          "base_uri": "https://localhost:8080/"
        },
        "id": "Cw7wIc6qt6JN",
        "outputId": "3bb78f6d-4690-466c-be6a-4517f2e97e50"
      },
      "execution_count": null,
      "outputs": [
        {
          "output_type": "stream",
          "name": "stdout",
          "text": [
            "Successfully loaded the first half of the documents.\n",
            "Successfully loaded the second half of the documents.\n"
          ]
        }
      ]
    },
    {
      "cell_type": "code",
      "source": [
        "query = \"Kan örneği alınarak yapılan testler hangileridir?\"\n",
        "results = vector_store.similarity_search_with_score(\n",
        "    query, k=7\n",
        ")\n",
        "\n",
        "for res, score in results:\n",
        "  print(f\"SCORE : {score}\\n{res.page_content}\\n\\n\")"
      ],
      "metadata": {
        "colab": {
          "base_uri": "https://localhost:8080/"
        },
        "id": "d0WSBysxO8J0",
        "outputId": "3175d6e3-4758-4f2d-86ca-4d2d582a85c0",
        "collapsed": true
      },
      "execution_count": null,
      "outputs": [
        {
          "output_type": "stream",
          "name": "stdout",
          "text": [
            "SCORE : 0.560455322\n",
            "gibi hücrelerin sayılarak, çeşitli hastalıkların tespitinde kullanılan kan testidir. Hemogram testi ile anlaşılabilen sorunların başında başında enfeksiyon, anemi, bağışıklık sistemi hastalıkları ve kan kanseri gibi hastalıklar gelmektedir. Tam kan Sayımı, CBC, hemogram, diferansiyel ile CBC, TKS isimleriyle de bilinir.Hemogram (Tam Kan Sayımı) Testi Hangi Hastalıkların Tanısı İçin Yapılır?Kişiden kan örneği alınmasıyla yapılan tam kan sayımı (hemogram) testi ile anemi, otoimmün bozukluklar, kemik iliği bozuklukları, dehidrasyon, enfeksiyonlar, iltihaplanma, lösemi, lenfoma, miyeloproliferatif neoplazmlar, miyelodisplastik sendrom, orak hücre hastalığı, talasemi, B12 vitamin, folat ve demir eksikliği gibi vitamin eksiklikleri tespit edilebilir.Tam kan sayımı testinde şu hastalıklar tespit edilir:Hemogram (Tam Kan Sayımı) Testinde Hangi Değerler İncelenir?Test yaptırdıktan sonra size sunulan sonuç sayfanızda yer alan bir dizi alt parametre yer alır. Bu alt parametrelerinin her birinin\n",
            "\n",
            "\n",
            "SCORE : 0.554294646\n",
            "testleri yapabilirsiniz. Babalık testi, kanser ya da hastalık yatkınlık testleri bunlara örnektir.Genetik testler kimler için gereklidir?Bütün bunlar dışında son yıllarda bireysel genetik check-up ve tarama testleri ile kişilere beslenme ve egzersiz genetiği, gluten, kafein ve laktoz intoleransı, mikrobiyata analizleri yapılarak kişilerin yaşam standartlarını düzeltici öneriler verebilecek genetik testler de yapılmaktadır.Genetik testler kaç günde sonuçlanır?Yapılan genetik test ve çalışılacak genlerin özelliğine ve gen testi yapan laboratuvara göre genetik testlerin sonuçlanma süresi değişmektedir. Kanser hastaları için acil sonuç gerektiren tedaviyi yönlendirecek dokudan çalışılacak bir genetik test 4-5 günde çıkarılabilir. Ya da amniyosentez yapılan bir bebekte Hızlı Anöploidi(kromozom anomalisi) taraması 1-2 günde sonuçlandırılabilir. Ancak 20bin genin tarandığı, hastalık yapıcı tüm genlerin analiz edildiği Tüm Ekzom Sekansı için 4-6 hafta gibi bir süre gerekebilir.Genetik danışma\n",
            "\n",
            "\n",
            "SCORE : 0.548873901\n",
            "category: 41\n",
            "topic: Tanı ve Testler\n",
            "text: ELISA Testi\n",
            "\n",
            "\n",
            "SCORE : 0.542896271\n",
            "category: 77\n",
            "topic: Tanı ve Testler\n",
            "text: Kan Gazı Testi\n",
            "\n",
            "\n",
            "SCORE : 0.54180342\n",
            "category: 76\n",
            "topic: Tanı ve Testler\n",
            "text: Kalın İğne Biyopsisi\n",
            "\n",
            "\n",
            "SCORE : 0.541268349\n",
            "önerilmektedir. Özellikle sigara ile alkol kullananların ve obez kişilerin kanser taraması konusunda daha uyanık olması gerekmektedir. Ayrıca kan sonuçlarında demir eksikliği tespit edilen kişilerde bu duruma sebep olabilecek başka bir durum yoksa mide-bağırsak patolojilerinin değerlendirilmesi için dışkıda kan testi yapılması önerilmektedir. Ülkemizde bu test genelde sağlık kuruluşlarında uygulanırken, evde kişinin kendisinin yapacağı hazır kitler de kullanılmaktadır.  Bu testte anormal bir sonuç çıkması durumunda hastaya mutlaka endoskopi ve kolonoskopi yapılması gerekmektedir.  Dışkıda kan testi hangi durumda pozitif çıkar?Aslında bu testin pozitif çıkması için hastanın ağız içi, mide, kalın barsak, ince bağırsak veya yemek borusundan 50 cc gibi az miktarda bir kanama bile olması yeterlidir. Bu testin pozitif çıkması durumunda ilk olarak bu organlarda başlayan kanserler akla gelir. Bu durumun dışındaki aşağıdaki hastalıklar da testin pozitif çıkmasına sebep olabilir;Dışkıda kan\n",
            "\n",
            "\n",
            "SCORE : 0.538961411\n",
            "haftalarda yapılarak bebeğin Down sendromu, Edward Sendromu ve Patau sendromu gibi durumların riskinin ortaya çıkarılması için yapılır. Böylelikle bebek doğmadan önce ciddi zihinsel engelliliği ya da fiziksel kusuru olup olmadığı görülür.İkili Tarama Testi (İkili Test) Nasıl Yapılır?İkili tarama testi, kan testi ve ense kalınlığı (NT) taraması olarak bilinen bir ultrason muayenesini içerir. Test sonuçları pozitif ve negatif olarak ikiye ayrılır. Testin sonuçları sadece alınan kan örneklerine değil, annenin yaşına ve ultrasonda görülen fetüsün ne kadar olduğuna bağlıdır. Tüm bu faktörler sonucun belirlenmesinde rol oynar.Kan örneğinde hormon serbest beta HCG ve gebelikle ilişkili plazma protein A (PAPP-A) düzeyleri kontrol edilir. Glikoprotein hormonu hamilelik sırasında plasenta tarafından geliştirilir. Serbest beta HCG'nin yüksek seviyeleri, daha yüksek Down sendromu riskini gösterir ve düşük protein seviyeleri de Down sendromu riski taşır.İkili Tarama Testi Avantajları\n",
            "\n",
            "\n"
          ]
        }
      ]
    },
    {
      "cell_type": "markdown",
      "source": [
        "Checkpoint :\n",
        "https://python.langchain.com/docs/tutorials/rag/"
      ],
      "metadata": {
        "id": "Akp4f72ha9O0"
      }
    },
    {
      "cell_type": "code",
      "source": [
        "prompt = hub.pull(\"rlm/rag-prompt\")\n",
        "llm = init_chat_model(\"gpt-4o-mini\", model_provider=\"openai\")"
      ],
      "metadata": {
        "id": "2NyVEm2OPBIe"
      },
      "execution_count": 8,
      "outputs": []
    },
    {
      "cell_type": "code",
      "source": [
        "class State(TypedDict):\n",
        "  is_medical: bool\n",
        "  query: str\n",
        "  context: List[Document]\n",
        "  response: str"
      ],
      "metadata": {
        "id": "wtE8inEz19Ly"
      },
      "execution_count": 9,
      "outputs": []
    },
    {
      "cell_type": "code",
      "source": [
        "from typing import Literal\n",
        "\n",
        "def is_medical_query(state: State):\n",
        "  \"\"\"\n",
        "  Returns 'True' if the query is relevant to medicine, False otherwise.\n",
        "  \"\"\"\n",
        "\n",
        "  prompt = f\"\"\"Determine if the following query is related to medicine:\n",
        "  Query: \"{state[\"query\"]}\"\n",
        "  Answer only with 'True' or 'False'\"\"\"\n",
        "  response = llm.invoke(prompt).content.strip().upper()\n",
        "  if response == \"TRUE\":\n",
        "    return {\"is_medical\": True}\n",
        "  elif response == \"FALSE\":\n",
        "    return {\"is_medical\": False, \"response\": \"Sorduğunuz konu medikal kapsamda değerlendirilmiyor. Lütfen başka bir soru yazınız.\"}"
      ],
      "metadata": {
        "id": "aSV4Wk1NdH1O"
      },
      "execution_count": 23,
      "outputs": []
    },
    {
      "cell_type": "code",
      "source": [
        "def retrieve(state: State):\n",
        "  retrieved_docs = vector_store.similarity_search(state[\"query\"], k=7)\n",
        "  return {\"context\": retrieved_docs}\n",
        "\n",
        "def generate(state: State):\n",
        "  docs_content = \"\\n\\n\".join(doc.page_content for doc in state[\"context\"])\n",
        "  messages = prompt.invoke({\n",
        "      \"question\": state[\"query\"],\n",
        "      \"context\": docs_content,\n",
        "  })\n",
        "  response = llm.invoke(messages)\n",
        "  return {\"response\": response.content}"
      ],
      "metadata": {
        "id": "jEJBTbF-2I84"
      },
      "execution_count": 25,
      "outputs": []
    },
    {
      "cell_type": "code",
      "source": [
        "workflow = StateGraph(State)\n",
        "\n",
        "workflow.add_node(\"retrieve\", retrieve)\n",
        "workflow.add_node(\"generate\", generate)\n",
        "workflow.add_node(\"is_medical_query\", is_medical_query)\n",
        "\n",
        "workflow.add_edge(START, \"is_medical_query\")\n",
        "workflow.add_conditional_edges(\n",
        "    \"is_medical_query\",\n",
        "    lambda state: \"retrieve\" if state[\"is_medical\"] else END,\n",
        "    {\"retrieve\": \"retrieve\", END: END}\n",
        ")\n",
        "\n",
        "workflow.add_edge(\"retrieve\", \"generate\")\n",
        "workflow.add_edge(\"generate\", END)\n",
        "\n",
        "# Compile workflow\n",
        "app = workflow.compile()\n",
        "display(Image(app.get_graph().draw_mermaid_png()))"
      ],
      "metadata": {
        "colab": {
          "base_uri": "https://localhost:8080/",
          "height": 449
        },
        "id": "IwaBdh6A52FL",
        "outputId": "cfd8af6c-0119-4a41-cf59-d0e938870774"
      },
      "execution_count": 26,
      "outputs": [
        {
          "output_type": "display_data",
          "data": {
            "image/png": "[encoded data removed]",
            "text/plain": [
              "<IPython.core.display.Image object>"
            ]
          },
          "metadata": {}
        }
      ]
    },
    {
      "cell_type": "code",
      "source": [
        "query1 = \"Kırmızı ve sarı renkler karıştığında hangi renk çıkar?\"\n",
        "query2 = \"Kan örneği alınarak yapılan testler hangileridir?\"\n",
        "\n",
        "\n",
        "response1 = app.invoke({\n",
        "    \"query\": query1\n",
        "})\n",
        "\n",
        "response2 = app.invoke({\n",
        "    \"query\": query2\n",
        "})\n",
        "\n",
        "print(\"Non-medical question:\")\n",
        "print(response1[\"response\"])\n",
        "print()\n",
        "print(\"Medical question:\")\n",
        "print(response2[\"response\"])"
      ],
      "metadata": {
        "colab": {
          "base_uri": "https://localhost:8080/"
        },
        "id": "xdL5hsAc69g4",
        "outputId": "3e4e9568-5d09-4cbe-caf5-5044f6060c1b"
      },
      "execution_count": 27,
      "outputs": [
        {
          "output_type": "stream",
          "name": "stdout",
          "text": [
            "Non-medical question:\n",
            "Sorduğunuz konu medikal kapsamda değerlendirilmiyor. Lütfen başka bir soru yazınız.\n",
            "\n",
            "Medical question:\n",
            "Kan örneği alınarak yapılan testler arasında hemogram (tam kan sayımı), genetik testler, ELISA testi ve kan gazı testi bulunmaktadır. Hemogram testi, anemi, enfeksiyon ve kan kanseri gibi hastalıkların tespitinde kullanılırken, genetik testler bireylerin genetik yatkınlıklarını belirlemeye yardımcı olur. Ayrıca, kan gazı testi ise vücuttaki asit-baz dengesini değerlendirir.\n"
          ]
        }
      ]
    },
    {
      "cell_type": "code",
      "source": [],
      "metadata": {
        "id": "80asKeVr7WQP"
      },
      "execution_count": null,
      "outputs": []
    }
  ]
}